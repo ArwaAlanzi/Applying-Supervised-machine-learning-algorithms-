{
 "cells": [
  {
   "cell_type": "markdown",
   "id": "1c2079e9-d888-4597-af91-fbb4b3d2118c",
   "metadata": {},
   "source": [
    "## ML Project: Employee Turnover Analytics"
   ]
  },
  {
   "cell_type": "markdown",
   "id": "0a32199e",
   "metadata": {},
   "source": [
    "## __Data Preprocessing__\n"
   ]
  },
  {
   "cell_type": "markdown",
   "id": "2bbc02cc",
   "metadata": {},
   "source": [
    "**Import Required Libraries**\n",
    "\n",
    "- Import pandas and NumPy libraries"
   ]
  },
  {
   "cell_type": "code",
   "execution_count": 53,
   "id": "ccf2b1bf-8865-479d-a4f7-beba28e8faba",
   "metadata": {},
   "outputs": [],
   "source": [
    "import pandas as pd\n",
    "import numpy as np\n",
    "import matplotlib.pyplot as plt\n",
    "import seaborn as sns\n",
    "from sklearn.tree import DecisionTreeClassifier, export_text\n",
    "from sklearn.metrics import accuracy_score, classification_report, confusion_matrix\n",
    "from sklearn.model_selection import train_test_split, cross_val_score, GridSearchCV\n",
    "from sklearn import metrics\n",
    "from sklearn.preprocessing import LabelEncoder, StandardScaler\n"
   ]
  },
  {
   "cell_type": "markdown",
   "id": "73977c5e",
   "metadata": {},
   "source": [
    "**Load the Dataset**"
   ]
  },
  {
   "cell_type": "code",
   "execution_count": 54,
   "id": "54de760c-fcb0-451b-89bd-37ffeb3d5211",
   "metadata": {},
   "outputs": [],
   "source": [
    "df = pd.read_csv(r\"HR_comma_sep.csv\")\n"
   ]
  },
  {
   "cell_type": "code",
   "execution_count": 55,
   "id": "74025c79",
   "metadata": {},
   "outputs": [
    {
     "data": {
      "text/html": [
       "<div>\n",
       "<style scoped>\n",
       "    .dataframe tbody tr th:only-of-type {\n",
       "        vertical-align: middle;\n",
       "    }\n",
       "\n",
       "    .dataframe tbody tr th {\n",
       "        vertical-align: top;\n",
       "    }\n",
       "\n",
       "    .dataframe thead th {\n",
       "        text-align: right;\n",
       "    }\n",
       "</style>\n",
       "<table border=\"1\" class=\"dataframe\">\n",
       "  <thead>\n",
       "    <tr style=\"text-align: right;\">\n",
       "      <th></th>\n",
       "      <th>satisfaction_level</th>\n",
       "      <th>last_evaluation</th>\n",
       "      <th>number_project</th>\n",
       "      <th>average_montly_hours</th>\n",
       "      <th>time_spend_company</th>\n",
       "      <th>Work_accident</th>\n",
       "      <th>left</th>\n",
       "      <th>promotion_last_5years</th>\n",
       "      <th>sales</th>\n",
       "      <th>salary</th>\n",
       "    </tr>\n",
       "  </thead>\n",
       "  <tbody>\n",
       "    <tr>\n",
       "      <th>0</th>\n",
       "      <td>0.38</td>\n",
       "      <td>0.53</td>\n",
       "      <td>2</td>\n",
       "      <td>157</td>\n",
       "      <td>3</td>\n",
       "      <td>0</td>\n",
       "      <td>1</td>\n",
       "      <td>0</td>\n",
       "      <td>sales</td>\n",
       "      <td>low</td>\n",
       "    </tr>\n",
       "    <tr>\n",
       "      <th>1</th>\n",
       "      <td>0.80</td>\n",
       "      <td>0.86</td>\n",
       "      <td>5</td>\n",
       "      <td>262</td>\n",
       "      <td>6</td>\n",
       "      <td>0</td>\n",
       "      <td>1</td>\n",
       "      <td>0</td>\n",
       "      <td>sales</td>\n",
       "      <td>medium</td>\n",
       "    </tr>\n",
       "    <tr>\n",
       "      <th>2</th>\n",
       "      <td>0.11</td>\n",
       "      <td>0.88</td>\n",
       "      <td>7</td>\n",
       "      <td>272</td>\n",
       "      <td>4</td>\n",
       "      <td>0</td>\n",
       "      <td>1</td>\n",
       "      <td>0</td>\n",
       "      <td>sales</td>\n",
       "      <td>medium</td>\n",
       "    </tr>\n",
       "    <tr>\n",
       "      <th>3</th>\n",
       "      <td>0.72</td>\n",
       "      <td>0.87</td>\n",
       "      <td>5</td>\n",
       "      <td>223</td>\n",
       "      <td>5</td>\n",
       "      <td>0</td>\n",
       "      <td>1</td>\n",
       "      <td>0</td>\n",
       "      <td>sales</td>\n",
       "      <td>low</td>\n",
       "    </tr>\n",
       "    <tr>\n",
       "      <th>4</th>\n",
       "      <td>0.37</td>\n",
       "      <td>0.52</td>\n",
       "      <td>2</td>\n",
       "      <td>159</td>\n",
       "      <td>3</td>\n",
       "      <td>0</td>\n",
       "      <td>1</td>\n",
       "      <td>0</td>\n",
       "      <td>sales</td>\n",
       "      <td>low</td>\n",
       "    </tr>\n",
       "  </tbody>\n",
       "</table>\n",
       "</div>"
      ],
      "text/plain": [
       "   satisfaction_level  last_evaluation  number_project  average_montly_hours  \\\n",
       "0                0.38             0.53               2                   157   \n",
       "1                0.80             0.86               5                   262   \n",
       "2                0.11             0.88               7                   272   \n",
       "3                0.72             0.87               5                   223   \n",
       "4                0.37             0.52               2                   159   \n",
       "\n",
       "   time_spend_company  Work_accident  left  promotion_last_5years  sales  \\\n",
       "0                   3              0     1                      0  sales   \n",
       "1                   6              0     1                      0  sales   \n",
       "2                   4              0     1                      0  sales   \n",
       "3                   5              0     1                      0  sales   \n",
       "4                   3              0     1                      0  sales   \n",
       "\n",
       "   salary  \n",
       "0     low  \n",
       "1  medium  \n",
       "2  medium  \n",
       "3     low  \n",
       "4     low  "
      ]
     },
     "execution_count": 55,
     "metadata": {},
     "output_type": "execute_result"
    }
   ],
   "source": [
    "df.head()"
   ]
  },
  {
   "cell_type": "code",
   "execution_count": 56,
   "id": "dfebef16-4505-46cc-8a47-6cd3881c3e21",
   "metadata": {},
   "outputs": [],
   "source": [
    "# Rename the 'sales' column to 'department'\n",
    "df = df.rename(columns={'sales': 'department'})"
   ]
  },
  {
   "cell_type": "code",
   "execution_count": 57,
   "id": "494f4776",
   "metadata": {},
   "outputs": [
    {
     "data": {
      "text/html": [
       "<div>\n",
       "<style scoped>\n",
       "    .dataframe tbody tr th:only-of-type {\n",
       "        vertical-align: middle;\n",
       "    }\n",
       "\n",
       "    .dataframe tbody tr th {\n",
       "        vertical-align: top;\n",
       "    }\n",
       "\n",
       "    .dataframe thead th {\n",
       "        text-align: right;\n",
       "    }\n",
       "</style>\n",
       "<table border=\"1\" class=\"dataframe\">\n",
       "  <thead>\n",
       "    <tr style=\"text-align: right;\">\n",
       "      <th></th>\n",
       "      <th>satisfaction_level</th>\n",
       "      <th>last_evaluation</th>\n",
       "      <th>number_project</th>\n",
       "      <th>average_montly_hours</th>\n",
       "      <th>time_spend_company</th>\n",
       "      <th>Work_accident</th>\n",
       "      <th>left</th>\n",
       "      <th>promotion_last_5years</th>\n",
       "    </tr>\n",
       "  </thead>\n",
       "  <tbody>\n",
       "    <tr>\n",
       "      <th>count</th>\n",
       "      <td>14999.000000</td>\n",
       "      <td>14999.000000</td>\n",
       "      <td>14999.000000</td>\n",
       "      <td>14999.000000</td>\n",
       "      <td>14999.000000</td>\n",
       "      <td>14999.000000</td>\n",
       "      <td>14999.000000</td>\n",
       "      <td>14999.000000</td>\n",
       "    </tr>\n",
       "    <tr>\n",
       "      <th>mean</th>\n",
       "      <td>0.612834</td>\n",
       "      <td>0.716102</td>\n",
       "      <td>3.803054</td>\n",
       "      <td>201.050337</td>\n",
       "      <td>3.498233</td>\n",
       "      <td>0.144610</td>\n",
       "      <td>0.238083</td>\n",
       "      <td>0.021268</td>\n",
       "    </tr>\n",
       "    <tr>\n",
       "      <th>std</th>\n",
       "      <td>0.248631</td>\n",
       "      <td>0.171169</td>\n",
       "      <td>1.232592</td>\n",
       "      <td>49.943099</td>\n",
       "      <td>1.460136</td>\n",
       "      <td>0.351719</td>\n",
       "      <td>0.425924</td>\n",
       "      <td>0.144281</td>\n",
       "    </tr>\n",
       "    <tr>\n",
       "      <th>min</th>\n",
       "      <td>0.090000</td>\n",
       "      <td>0.360000</td>\n",
       "      <td>2.000000</td>\n",
       "      <td>96.000000</td>\n",
       "      <td>2.000000</td>\n",
       "      <td>0.000000</td>\n",
       "      <td>0.000000</td>\n",
       "      <td>0.000000</td>\n",
       "    </tr>\n",
       "    <tr>\n",
       "      <th>25%</th>\n",
       "      <td>0.440000</td>\n",
       "      <td>0.560000</td>\n",
       "      <td>3.000000</td>\n",
       "      <td>156.000000</td>\n",
       "      <td>3.000000</td>\n",
       "      <td>0.000000</td>\n",
       "      <td>0.000000</td>\n",
       "      <td>0.000000</td>\n",
       "    </tr>\n",
       "    <tr>\n",
       "      <th>50%</th>\n",
       "      <td>0.640000</td>\n",
       "      <td>0.720000</td>\n",
       "      <td>4.000000</td>\n",
       "      <td>200.000000</td>\n",
       "      <td>3.000000</td>\n",
       "      <td>0.000000</td>\n",
       "      <td>0.000000</td>\n",
       "      <td>0.000000</td>\n",
       "    </tr>\n",
       "    <tr>\n",
       "      <th>75%</th>\n",
       "      <td>0.820000</td>\n",
       "      <td>0.870000</td>\n",
       "      <td>5.000000</td>\n",
       "      <td>245.000000</td>\n",
       "      <td>4.000000</td>\n",
       "      <td>0.000000</td>\n",
       "      <td>0.000000</td>\n",
       "      <td>0.000000</td>\n",
       "    </tr>\n",
       "    <tr>\n",
       "      <th>max</th>\n",
       "      <td>1.000000</td>\n",
       "      <td>1.000000</td>\n",
       "      <td>7.000000</td>\n",
       "      <td>310.000000</td>\n",
       "      <td>10.000000</td>\n",
       "      <td>1.000000</td>\n",
       "      <td>1.000000</td>\n",
       "      <td>1.000000</td>\n",
       "    </tr>\n",
       "  </tbody>\n",
       "</table>\n",
       "</div>"
      ],
      "text/plain": [
       "       satisfaction_level  last_evaluation  number_project  \\\n",
       "count        14999.000000     14999.000000    14999.000000   \n",
       "mean             0.612834         0.716102        3.803054   \n",
       "std              0.248631         0.171169        1.232592   \n",
       "min              0.090000         0.360000        2.000000   \n",
       "25%              0.440000         0.560000        3.000000   \n",
       "50%              0.640000         0.720000        4.000000   \n",
       "75%              0.820000         0.870000        5.000000   \n",
       "max              1.000000         1.000000        7.000000   \n",
       "\n",
       "       average_montly_hours  time_spend_company  Work_accident          left  \\\n",
       "count          14999.000000        14999.000000   14999.000000  14999.000000   \n",
       "mean             201.050337            3.498233       0.144610      0.238083   \n",
       "std               49.943099            1.460136       0.351719      0.425924   \n",
       "min               96.000000            2.000000       0.000000      0.000000   \n",
       "25%              156.000000            3.000000       0.000000      0.000000   \n",
       "50%              200.000000            3.000000       0.000000      0.000000   \n",
       "75%              245.000000            4.000000       0.000000      0.000000   \n",
       "max              310.000000           10.000000       1.000000      1.000000   \n",
       "\n",
       "       promotion_last_5years  \n",
       "count           14999.000000  \n",
       "mean                0.021268  \n",
       "std                 0.144281  \n",
       "min                 0.000000  \n",
       "25%                 0.000000  \n",
       "50%                 0.000000  \n",
       "75%                 0.000000  \n",
       "max                 1.000000  "
      ]
     },
     "execution_count": 57,
     "metadata": {},
     "output_type": "execute_result"
    }
   ],
   "source": [
    "df.describe()"
   ]
  },
  {
   "cell_type": "code",
   "execution_count": 58,
   "id": "fc083220",
   "metadata": {},
   "outputs": [
    {
     "data": {
      "text/plain": [
       "satisfaction_level       0\n",
       "last_evaluation          0\n",
       "number_project           0\n",
       "average_montly_hours     0\n",
       "time_spend_company       0\n",
       "Work_accident            0\n",
       "left                     0\n",
       "promotion_last_5years    0\n",
       "department               0\n",
       "salary                   0\n",
       "dtype: int64"
      ]
     },
     "execution_count": 58,
     "metadata": {},
     "output_type": "execute_result"
    }
   ],
   "source": [
    "df.isna().sum()"
   ]
  },
  {
   "cell_type": "markdown",
   "id": "7a97bedc",
   "metadata": {},
   "source": [
    "- There are no missing values"
   ]
  },
  {
   "cell_type": "code",
   "execution_count": 59,
   "id": "debb8e26",
   "metadata": {},
   "outputs": [
    {
     "name": "stdout",
     "output_type": "stream",
     "text": [
      "<class 'pandas.core.frame.DataFrame'>\n",
      "RangeIndex: 14999 entries, 0 to 14998\n",
      "Data columns (total 10 columns):\n",
      " #   Column                 Non-Null Count  Dtype  \n",
      "---  ------                 --------------  -----  \n",
      " 0   satisfaction_level     14999 non-null  float64\n",
      " 1   last_evaluation        14999 non-null  float64\n",
      " 2   number_project         14999 non-null  int64  \n",
      " 3   average_montly_hours   14999 non-null  int64  \n",
      " 4   time_spend_company     14999 non-null  int64  \n",
      " 5   Work_accident          14999 non-null  int64  \n",
      " 6   left                   14999 non-null  int64  \n",
      " 7   promotion_last_5years  14999 non-null  int64  \n",
      " 8   department             14999 non-null  object \n",
      " 9   salary                 14999 non-null  object \n",
      "dtypes: float64(2), int64(6), object(2)\n",
      "memory usage: 1.1+ MB\n"
     ]
    }
   ],
   "source": [
    "df.info()"
   ]
  },
  {
   "cell_type": "code",
   "execution_count": 60,
   "id": "65e20f11",
   "metadata": {},
   "outputs": [
    {
     "data": {
      "text/plain": [
       "(14999, 10)"
      ]
     },
     "execution_count": 60,
     "metadata": {},
     "output_type": "execute_result"
    }
   ],
   "source": [
    "df.shape"
   ]
  },
  {
   "cell_type": "code",
   "execution_count": 61,
   "id": "0034508d",
   "metadata": {},
   "outputs": [
    {
     "data": {
      "text/plain": [
       "left\n",
       "0    0.761917\n",
       "1    0.238083\n",
       "Name: count, dtype: float64"
      ]
     },
     "execution_count": 61,
     "metadata": {},
     "output_type": "execute_result"
    }
   ],
   "source": [
    "turnover_rate= df.left.value_counts() / 14999\n",
    "turnover_rate"
   ]
  },
  {
   "cell_type": "code",
   "execution_count": 62,
   "id": "53d8f13b-e6bf-4cce-a958-32e0d7ed4a50",
   "metadata": {},
   "outputs": [
    {
     "name": "stdout",
     "output_type": "stream",
     "text": [
      "Number of employees who left: 3571\n",
      "Number of employees who did not leave: 11428\n"
     ]
    }
   ],
   "source": [
    "\n",
    "print(\"Number of employees who left:\", df['left'].sum())\n",
    "print(\"Number of employees who did not leave:\", len(df) - df['left'].sum())\n"
   ]
  },
  {
   "cell_type": "markdown",
   "id": "226c9438-1e5f-4a94-97f4-d7b1c8655df8",
   "metadata": {},
   "source": [
    "Data is **highly imbalanced** for the training dataset as the record of people **who left** is very low in comparision to the record of people **who didn't leave**."
   ]
  },
  {
   "cell_type": "markdown",
   "id": "cfbd337b",
   "metadata": {},
   "source": [
    "**Split the Dataset**\n",
    "\n",
    "- Split the dataset into training and testing sets"
   ]
  },
  {
   "cell_type": "code",
   "execution_count": 63,
   "id": "117d8cfd",
   "metadata": {},
   "outputs": [],
   "source": [
    "# Step 1: Separate categorical variables and numeric variables\n",
    "categorical_cols = ['department', 'salary']\n",
    "numeric_cols = ['satisfaction_level', 'last_evaluation', 'number_project', 'average_montly_hours', 'time_spend_company', 'Work_accident', 'promotion_last_5years']\n",
    "\n",
    "# Step 2: Apply get_dummies() to the categorical variables\n",
    "categorical_df = pd.get_dummies(df[categorical_cols])\n",
    "\n",
    "# Step 3: Combine categorical variables and numeric variables\n",
    "processed_df = pd.concat([categorical_df, df[numeric_cols], df['left']], axis=1)"
   ]
  },
  {
   "cell_type": "code",
   "execution_count": 64,
   "id": "bf89cf1b",
   "metadata": {},
   "outputs": [],
   "source": [
    "# Separate the features (X) and target variable (y)\n",
    "X = processed_df.drop('left', axis=1)\n",
    "y = processed_df['left']\n"
   ]
  },
  {
   "cell_type": "code",
   "execution_count": 65,
   "id": "ccd4ceb5",
   "metadata": {},
   "outputs": [],
   "source": [
    "X_train, X_test, y_train, y_test = train_test_split(X, y, test_size = 0.2,random_state=42)"
   ]
  },
  {
   "cell_type": "code",
   "execution_count": 66,
   "id": "757b9859-033a-413a-be04-ba39e8a20240",
   "metadata": {},
   "outputs": [],
   "source": [
    "from imblearn.over_sampling import SMOTE\n",
    "# Apply SMOTE to the training data only\n",
    "smote = SMOTE(random_state=42)\n",
    "X_train_resampled, y_train_resampled = smote.fit_resample(X_train, y_train)"
   ]
  },
  {
   "cell_type": "code",
   "execution_count": 67,
   "id": "25e42046-4da8-4a8b-b629-a14f10ce4d4d",
   "metadata": {},
   "outputs": [
    {
     "name": "stdout",
     "output_type": "stream",
     "text": [
      "Shapes after SMOTE:\n",
      "X_train_resampled: (18268, 20)\n",
      "y_train_resampled: (18268,)\n"
     ]
    }
   ],
   "source": [
    "# Print the shapes of the resampled data\n",
    "print(\"Shapes after SMOTE:\")\n",
    "print(\"X_train_resampled:\", X_train_resampled.shape)\n",
    "print(\"y_train_resampled:\", y_train_resampled.shape)"
   ]
  },
  {
   "cell_type": "markdown",
   "id": "23e22f01",
   "metadata": {},
   "source": [
    "## __Algorithm 1:  Decision Tree__\n",
    "\n",
    "\n",
    "**Train the Decision Tree Classifier**\n",
    "- Import DecisionTreeClassifier from sklearn.tree\n",
    "- Train the model using the training dataset"
   ]
  },
  {
   "cell_type": "markdown",
   "id": "bfb04237",
   "metadata": {},
   "source": [
    "**Before Perform Hyperparameter Tuning with GridSearchCV**\n"
   ]
  },
  {
   "cell_type": "code",
   "execution_count": 68,
   "id": "4fdd492c",
   "metadata": {},
   "outputs": [
    {
     "data": {
      "text/html": [
       "<style>#sk-container-id-9 {color: black;background-color: white;}#sk-container-id-9 pre{padding: 0;}#sk-container-id-9 div.sk-toggleable {background-color: white;}#sk-container-id-9 label.sk-toggleable__label {cursor: pointer;display: block;width: 100%;margin-bottom: 0;padding: 0.3em;box-sizing: border-box;text-align: center;}#sk-container-id-9 label.sk-toggleable__label-arrow:before {content: \"▸\";float: left;margin-right: 0.25em;color: #696969;}#sk-container-id-9 label.sk-toggleable__label-arrow:hover:before {color: black;}#sk-container-id-9 div.sk-estimator:hover label.sk-toggleable__label-arrow:before {color: black;}#sk-container-id-9 div.sk-toggleable__content {max-height: 0;max-width: 0;overflow: hidden;text-align: left;background-color: #f0f8ff;}#sk-container-id-9 div.sk-toggleable__content pre {margin: 0.2em;color: black;border-radius: 0.25em;background-color: #f0f8ff;}#sk-container-id-9 input.sk-toggleable__control:checked~div.sk-toggleable__content {max-height: 200px;max-width: 100%;overflow: auto;}#sk-container-id-9 input.sk-toggleable__control:checked~label.sk-toggleable__label-arrow:before {content: \"▾\";}#sk-container-id-9 div.sk-estimator input.sk-toggleable__control:checked~label.sk-toggleable__label {background-color: #d4ebff;}#sk-container-id-9 div.sk-label input.sk-toggleable__control:checked~label.sk-toggleable__label {background-color: #d4ebff;}#sk-container-id-9 input.sk-hidden--visually {border: 0;clip: rect(1px 1px 1px 1px);clip: rect(1px, 1px, 1px, 1px);height: 1px;margin: -1px;overflow: hidden;padding: 0;position: absolute;width: 1px;}#sk-container-id-9 div.sk-estimator {font-family: monospace;background-color: #f0f8ff;border: 1px dotted black;border-radius: 0.25em;box-sizing: border-box;margin-bottom: 0.5em;}#sk-container-id-9 div.sk-estimator:hover {background-color: #d4ebff;}#sk-container-id-9 div.sk-parallel-item::after {content: \"\";width: 100%;border-bottom: 1px solid gray;flex-grow: 1;}#sk-container-id-9 div.sk-label:hover label.sk-toggleable__label {background-color: #d4ebff;}#sk-container-id-9 div.sk-serial::before {content: \"\";position: absolute;border-left: 1px solid gray;box-sizing: border-box;top: 0;bottom: 0;left: 50%;z-index: 0;}#sk-container-id-9 div.sk-serial {display: flex;flex-direction: column;align-items: center;background-color: white;padding-right: 0.2em;padding-left: 0.2em;position: relative;}#sk-container-id-9 div.sk-item {position: relative;z-index: 1;}#sk-container-id-9 div.sk-parallel {display: flex;align-items: stretch;justify-content: center;background-color: white;position: relative;}#sk-container-id-9 div.sk-item::before, #sk-container-id-9 div.sk-parallel-item::before {content: \"\";position: absolute;border-left: 1px solid gray;box-sizing: border-box;top: 0;bottom: 0;left: 50%;z-index: -1;}#sk-container-id-9 div.sk-parallel-item {display: flex;flex-direction: column;z-index: 1;position: relative;background-color: white;}#sk-container-id-9 div.sk-parallel-item:first-child::after {align-self: flex-end;width: 50%;}#sk-container-id-9 div.sk-parallel-item:last-child::after {align-self: flex-start;width: 50%;}#sk-container-id-9 div.sk-parallel-item:only-child::after {width: 0;}#sk-container-id-9 div.sk-dashed-wrapped {border: 1px dashed gray;margin: 0 0.4em 0.5em 0.4em;box-sizing: border-box;padding-bottom: 0.4em;background-color: white;}#sk-container-id-9 div.sk-label label {font-family: monospace;font-weight: bold;display: inline-block;line-height: 1.2em;}#sk-container-id-9 div.sk-label-container {text-align: center;}#sk-container-id-9 div.sk-container {/* jupyter's `normalize.less` sets `[hidden] { display: none; }` but bootstrap.min.css set `[hidden] { display: none !important; }` so we also need the `!important` here to be able to override the default hidden behavior on the sphinx rendered scikit-learn.org. See: https://github.com/scikit-learn/scikit-learn/issues/21755 */display: inline-block !important;position: relative;}#sk-container-id-9 div.sk-text-repr-fallback {display: none;}</style><div id=\"sk-container-id-9\" class=\"sk-top-container\"><div class=\"sk-text-repr-fallback\"><pre>DecisionTreeClassifier(max_depth=3, min_samples_leaf=50, random_state=42)</pre><b>In a Jupyter environment, please rerun this cell to show the HTML representation or trust the notebook. <br />On GitHub, the HTML representation is unable to render, please try loading this page with nbviewer.org.</b></div><div class=\"sk-container\" hidden><div class=\"sk-item\"><div class=\"sk-estimator sk-toggleable\"><input class=\"sk-toggleable__control sk-hidden--visually\" id=\"sk-estimator-id-13\" type=\"checkbox\" checked><label for=\"sk-estimator-id-13\" class=\"sk-toggleable__label sk-toggleable__label-arrow\">DecisionTreeClassifier</label><div class=\"sk-toggleable__content\"><pre>DecisionTreeClassifier(max_depth=3, min_samples_leaf=50, random_state=42)</pre></div></div></div></div></div>"
      ],
      "text/plain": [
       "DecisionTreeClassifier(max_depth=3, min_samples_leaf=50, random_state=42)"
      ]
     },
     "execution_count": 68,
     "metadata": {},
     "output_type": "execute_result"
    }
   ],
   "source": [
    "clf1 = DecisionTreeClassifier(criterion=\"gini\", random_state=42,max_depth=3, min_samples_leaf=50)   \n",
    "clf1.fit(X_train_resampled,y_train_resampled)"
   ]
  },
  {
   "cell_type": "markdown",
   "id": "65f361e7",
   "metadata": {},
   "source": [
    "**Make Predictions**\n",
    "\n",
    "- Predict the outcomes using the testing dataset"
   ]
  },
  {
   "cell_type": "code",
   "execution_count": 69,
   "id": "ee9b70b5",
   "metadata": {},
   "outputs": [],
   "source": [
    "y_predict = clf1.predict(X_test)\n"
   ]
  },
  {
   "cell_type": "markdown",
   "id": "16685e63",
   "metadata": {},
   "source": [
    "**Evaluate the Model**\n",
    "\n",
    "- Import accuracy_score, classification_report, and confusion_matrix from sklearn.metrics\n",
    "- Calculate the accuracy score"
   ]
  },
  {
   "cell_type": "code",
   "execution_count": 70,
   "id": "8ba4a87b",
   "metadata": {
    "scrolled": true
   },
   "outputs": [
    {
     "name": "stdout",
     "output_type": "stream",
     "text": [
      "Accuracy: 0.9123333333333333\n",
      "--------------------\n",
      "Confusion Matrix:\n",
      "[[2081  213]\n",
      " [  50  656]]\n",
      "--------------------\n",
      "Classification Report:\n",
      "              precision    recall  f1-score   support\n",
      "\n",
      "           0       0.98      0.91      0.94      2294\n",
      "           1       0.75      0.93      0.83       706\n",
      "\n",
      "    accuracy                           0.91      3000\n",
      "   macro avg       0.87      0.92      0.89      3000\n",
      "weighted avg       0.92      0.91      0.92      3000\n",
      "\n"
     ]
    }
   ],
   "source": [
    "# Assuming y_test contains the true labels and y_predict contains the predicted labels\n",
    "dt_accuracy1 = accuracy_score(y_test, y_predict)\n",
    "print(\"Accuracy:\", dt_accuracy1)\n",
    "print(\"-\"*20)\n",
    "dt_cm1 = confusion_matrix(y_test, y_predict)\n",
    "print(\"Confusion Matrix:\")\n",
    "print(dt_cm1)\n",
    "print(\"-\"*20)\n",
    "classification_report_dt = classification_report(y_test, y_predict, zero_division=1)\n",
    "print(\"Classification Report:\")\n",
    "print(classification_report_dt)"
   ]
  },
  {
   "cell_type": "markdown",
   "id": "fc6e6111",
   "metadata": {},
   "source": [
    "**Plot the decision tree**\n",
    "- We will plot the decision tree using an export_tree"
   ]
  },
  {
   "cell_type": "code",
   "execution_count": 71,
   "id": "d0a28273",
   "metadata": {},
   "outputs": [
    {
     "name": "stdout",
     "output_type": "stream",
     "text": [
      "|--- satisfaction_level <= 0.47\n",
      "|   |--- time_spend_company <= 4.50\n",
      "|   |   |--- time_spend_company <= 2.50\n",
      "|   |   |   |--- class: 0\n",
      "|   |   |--- time_spend_company >  2.50\n",
      "|   |   |   |--- class: 1\n",
      "|   |--- time_spend_company >  4.50\n",
      "|   |   |--- satisfaction_level <= 0.11\n",
      "|   |   |   |--- class: 1\n",
      "|   |   |--- satisfaction_level >  0.11\n",
      "|   |   |   |--- class: 0\n",
      "|--- satisfaction_level >  0.47\n",
      "|   |--- time_spend_company <= 4.50\n",
      "|   |   |--- time_spend_company <= 3.50\n",
      "|   |   |   |--- class: 0\n",
      "|   |   |--- time_spend_company >  3.50\n",
      "|   |   |   |--- class: 0\n",
      "|   |--- time_spend_company >  4.50\n",
      "|   |   |--- last_evaluation <= 0.81\n",
      "|   |   |   |--- class: 0\n",
      "|   |   |--- last_evaluation >  0.81\n",
      "|   |   |   |--- class: 1\n",
      "\n"
     ]
    }
   ],
   "source": [
    "target = list(df['left'].unique())\n",
    "feature_names = list(X.columns)\n",
    "r = export_text(clf1, feature_names=feature_names)\n",
    "print(r)"
   ]
  },
  {
   "cell_type": "markdown",
   "id": "fc1724dc",
   "metadata": {},
   "source": [
    "**After Perform Hyperparameter Tuning with GridSearchCV**\n"
   ]
  },
  {
   "cell_type": "code",
   "execution_count": 72,
   "id": "c0c25c3c",
   "metadata": {
    "scrolled": true
   },
   "outputs": [
    {
     "data": {
      "text/html": [
       "<style>#sk-container-id-10 {color: black;background-color: white;}#sk-container-id-10 pre{padding: 0;}#sk-container-id-10 div.sk-toggleable {background-color: white;}#sk-container-id-10 label.sk-toggleable__label {cursor: pointer;display: block;width: 100%;margin-bottom: 0;padding: 0.3em;box-sizing: border-box;text-align: center;}#sk-container-id-10 label.sk-toggleable__label-arrow:before {content: \"▸\";float: left;margin-right: 0.25em;color: #696969;}#sk-container-id-10 label.sk-toggleable__label-arrow:hover:before {color: black;}#sk-container-id-10 div.sk-estimator:hover label.sk-toggleable__label-arrow:before {color: black;}#sk-container-id-10 div.sk-toggleable__content {max-height: 0;max-width: 0;overflow: hidden;text-align: left;background-color: #f0f8ff;}#sk-container-id-10 div.sk-toggleable__content pre {margin: 0.2em;color: black;border-radius: 0.25em;background-color: #f0f8ff;}#sk-container-id-10 input.sk-toggleable__control:checked~div.sk-toggleable__content {max-height: 200px;max-width: 100%;overflow: auto;}#sk-container-id-10 input.sk-toggleable__control:checked~label.sk-toggleable__label-arrow:before {content: \"▾\";}#sk-container-id-10 div.sk-estimator input.sk-toggleable__control:checked~label.sk-toggleable__label {background-color: #d4ebff;}#sk-container-id-10 div.sk-label input.sk-toggleable__control:checked~label.sk-toggleable__label {background-color: #d4ebff;}#sk-container-id-10 input.sk-hidden--visually {border: 0;clip: rect(1px 1px 1px 1px);clip: rect(1px, 1px, 1px, 1px);height: 1px;margin: -1px;overflow: hidden;padding: 0;position: absolute;width: 1px;}#sk-container-id-10 div.sk-estimator {font-family: monospace;background-color: #f0f8ff;border: 1px dotted black;border-radius: 0.25em;box-sizing: border-box;margin-bottom: 0.5em;}#sk-container-id-10 div.sk-estimator:hover {background-color: #d4ebff;}#sk-container-id-10 div.sk-parallel-item::after {content: \"\";width: 100%;border-bottom: 1px solid gray;flex-grow: 1;}#sk-container-id-10 div.sk-label:hover label.sk-toggleable__label {background-color: #d4ebff;}#sk-container-id-10 div.sk-serial::before {content: \"\";position: absolute;border-left: 1px solid gray;box-sizing: border-box;top: 0;bottom: 0;left: 50%;z-index: 0;}#sk-container-id-10 div.sk-serial {display: flex;flex-direction: column;align-items: center;background-color: white;padding-right: 0.2em;padding-left: 0.2em;position: relative;}#sk-container-id-10 div.sk-item {position: relative;z-index: 1;}#sk-container-id-10 div.sk-parallel {display: flex;align-items: stretch;justify-content: center;background-color: white;position: relative;}#sk-container-id-10 div.sk-item::before, #sk-container-id-10 div.sk-parallel-item::before {content: \"\";position: absolute;border-left: 1px solid gray;box-sizing: border-box;top: 0;bottom: 0;left: 50%;z-index: -1;}#sk-container-id-10 div.sk-parallel-item {display: flex;flex-direction: column;z-index: 1;position: relative;background-color: white;}#sk-container-id-10 div.sk-parallel-item:first-child::after {align-self: flex-end;width: 50%;}#sk-container-id-10 div.sk-parallel-item:last-child::after {align-self: flex-start;width: 50%;}#sk-container-id-10 div.sk-parallel-item:only-child::after {width: 0;}#sk-container-id-10 div.sk-dashed-wrapped {border: 1px dashed gray;margin: 0 0.4em 0.5em 0.4em;box-sizing: border-box;padding-bottom: 0.4em;background-color: white;}#sk-container-id-10 div.sk-label label {font-family: monospace;font-weight: bold;display: inline-block;line-height: 1.2em;}#sk-container-id-10 div.sk-label-container {text-align: center;}#sk-container-id-10 div.sk-container {/* jupyter's `normalize.less` sets `[hidden] { display: none; }` but bootstrap.min.css set `[hidden] { display: none !important; }` so we also need the `!important` here to be able to override the default hidden behavior on the sphinx rendered scikit-learn.org. See: https://github.com/scikit-learn/scikit-learn/issues/21755 */display: inline-block !important;position: relative;}#sk-container-id-10 div.sk-text-repr-fallback {display: none;}</style><div id=\"sk-container-id-10\" class=\"sk-top-container\"><div class=\"sk-text-repr-fallback\"><pre>GridSearchCV(cv=3, estimator=DecisionTreeClassifier(), n_jobs=-1,\n",
       "             param_grid={&#x27;criterion&#x27;: [&#x27;gini&#x27;, &#x27;entropy&#x27;],\n",
       "                         &#x27;max_depth&#x27;: [2, 4, 6, 10, 20],\n",
       "                         &#x27;min_samples_split&#x27;: [5, 10, 20, 50, 100]},\n",
       "             scoring=&#x27;accuracy&#x27;)</pre><b>In a Jupyter environment, please rerun this cell to show the HTML representation or trust the notebook. <br />On GitHub, the HTML representation is unable to render, please try loading this page with nbviewer.org.</b></div><div class=\"sk-container\" hidden><div class=\"sk-item sk-dashed-wrapped\"><div class=\"sk-label-container\"><div class=\"sk-label sk-toggleable\"><input class=\"sk-toggleable__control sk-hidden--visually\" id=\"sk-estimator-id-14\" type=\"checkbox\" ><label for=\"sk-estimator-id-14\" class=\"sk-toggleable__label sk-toggleable__label-arrow\">GridSearchCV</label><div class=\"sk-toggleable__content\"><pre>GridSearchCV(cv=3, estimator=DecisionTreeClassifier(), n_jobs=-1,\n",
       "             param_grid={&#x27;criterion&#x27;: [&#x27;gini&#x27;, &#x27;entropy&#x27;],\n",
       "                         &#x27;max_depth&#x27;: [2, 4, 6, 10, 20],\n",
       "                         &#x27;min_samples_split&#x27;: [5, 10, 20, 50, 100]},\n",
       "             scoring=&#x27;accuracy&#x27;)</pre></div></div></div><div class=\"sk-parallel\"><div class=\"sk-parallel-item\"><div class=\"sk-item\"><div class=\"sk-label-container\"><div class=\"sk-label sk-toggleable\"><input class=\"sk-toggleable__control sk-hidden--visually\" id=\"sk-estimator-id-15\" type=\"checkbox\" ><label for=\"sk-estimator-id-15\" class=\"sk-toggleable__label sk-toggleable__label-arrow\">estimator: DecisionTreeClassifier</label><div class=\"sk-toggleable__content\"><pre>DecisionTreeClassifier()</pre></div></div></div><div class=\"sk-serial\"><div class=\"sk-item\"><div class=\"sk-estimator sk-toggleable\"><input class=\"sk-toggleable__control sk-hidden--visually\" id=\"sk-estimator-id-16\" type=\"checkbox\" ><label for=\"sk-estimator-id-16\" class=\"sk-toggleable__label sk-toggleable__label-arrow\">DecisionTreeClassifier</label><div class=\"sk-toggleable__content\"><pre>DecisionTreeClassifier()</pre></div></div></div></div></div></div></div></div></div></div>"
      ],
      "text/plain": [
       "GridSearchCV(cv=3, estimator=DecisionTreeClassifier(), n_jobs=-1,\n",
       "             param_grid={'criterion': ['gini', 'entropy'],\n",
       "                         'max_depth': [2, 4, 6, 10, 20],\n",
       "                         'min_samples_split': [5, 10, 20, 50, 100]},\n",
       "             scoring='accuracy')"
      ]
     },
     "execution_count": 72,
     "metadata": {},
     "output_type": "execute_result"
    }
   ],
   "source": [
    "para_grid = {'criterion' :['gini', 'entropy'], 'max_depth':[2,4,6,10,20], 'min_samples_split':[5,10,20, 50, 100]}\n",
    "clf= GridSearchCV(DecisionTreeClassifier(), para_grid, cv=3, n_jobs=-1, scoring=\"accuracy\")\n",
    "clf.fit(X_train,y_train)"
   ]
  },
  {
   "cell_type": "code",
   "execution_count": 73,
   "id": "1128ba04",
   "metadata": {
    "scrolled": true
   },
   "outputs": [
    {
     "data": {
      "text/html": [
       "<style>#sk-container-id-11 {color: black;background-color: white;}#sk-container-id-11 pre{padding: 0;}#sk-container-id-11 div.sk-toggleable {background-color: white;}#sk-container-id-11 label.sk-toggleable__label {cursor: pointer;display: block;width: 100%;margin-bottom: 0;padding: 0.3em;box-sizing: border-box;text-align: center;}#sk-container-id-11 label.sk-toggleable__label-arrow:before {content: \"▸\";float: left;margin-right: 0.25em;color: #696969;}#sk-container-id-11 label.sk-toggleable__label-arrow:hover:before {color: black;}#sk-container-id-11 div.sk-estimator:hover label.sk-toggleable__label-arrow:before {color: black;}#sk-container-id-11 div.sk-toggleable__content {max-height: 0;max-width: 0;overflow: hidden;text-align: left;background-color: #f0f8ff;}#sk-container-id-11 div.sk-toggleable__content pre {margin: 0.2em;color: black;border-radius: 0.25em;background-color: #f0f8ff;}#sk-container-id-11 input.sk-toggleable__control:checked~div.sk-toggleable__content {max-height: 200px;max-width: 100%;overflow: auto;}#sk-container-id-11 input.sk-toggleable__control:checked~label.sk-toggleable__label-arrow:before {content: \"▾\";}#sk-container-id-11 div.sk-estimator input.sk-toggleable__control:checked~label.sk-toggleable__label {background-color: #d4ebff;}#sk-container-id-11 div.sk-label input.sk-toggleable__control:checked~label.sk-toggleable__label {background-color: #d4ebff;}#sk-container-id-11 input.sk-hidden--visually {border: 0;clip: rect(1px 1px 1px 1px);clip: rect(1px, 1px, 1px, 1px);height: 1px;margin: -1px;overflow: hidden;padding: 0;position: absolute;width: 1px;}#sk-container-id-11 div.sk-estimator {font-family: monospace;background-color: #f0f8ff;border: 1px dotted black;border-radius: 0.25em;box-sizing: border-box;margin-bottom: 0.5em;}#sk-container-id-11 div.sk-estimator:hover {background-color: #d4ebff;}#sk-container-id-11 div.sk-parallel-item::after {content: \"\";width: 100%;border-bottom: 1px solid gray;flex-grow: 1;}#sk-container-id-11 div.sk-label:hover label.sk-toggleable__label {background-color: #d4ebff;}#sk-container-id-11 div.sk-serial::before {content: \"\";position: absolute;border-left: 1px solid gray;box-sizing: border-box;top: 0;bottom: 0;left: 50%;z-index: 0;}#sk-container-id-11 div.sk-serial {display: flex;flex-direction: column;align-items: center;background-color: white;padding-right: 0.2em;padding-left: 0.2em;position: relative;}#sk-container-id-11 div.sk-item {position: relative;z-index: 1;}#sk-container-id-11 div.sk-parallel {display: flex;align-items: stretch;justify-content: center;background-color: white;position: relative;}#sk-container-id-11 div.sk-item::before, #sk-container-id-11 div.sk-parallel-item::before {content: \"\";position: absolute;border-left: 1px solid gray;box-sizing: border-box;top: 0;bottom: 0;left: 50%;z-index: -1;}#sk-container-id-11 div.sk-parallel-item {display: flex;flex-direction: column;z-index: 1;position: relative;background-color: white;}#sk-container-id-11 div.sk-parallel-item:first-child::after {align-self: flex-end;width: 50%;}#sk-container-id-11 div.sk-parallel-item:last-child::after {align-self: flex-start;width: 50%;}#sk-container-id-11 div.sk-parallel-item:only-child::after {width: 0;}#sk-container-id-11 div.sk-dashed-wrapped {border: 1px dashed gray;margin: 0 0.4em 0.5em 0.4em;box-sizing: border-box;padding-bottom: 0.4em;background-color: white;}#sk-container-id-11 div.sk-label label {font-family: monospace;font-weight: bold;display: inline-block;line-height: 1.2em;}#sk-container-id-11 div.sk-label-container {text-align: center;}#sk-container-id-11 div.sk-container {/* jupyter's `normalize.less` sets `[hidden] { display: none; }` but bootstrap.min.css set `[hidden] { display: none !important; }` so we also need the `!important` here to be able to override the default hidden behavior on the sphinx rendered scikit-learn.org. See: https://github.com/scikit-learn/scikit-learn/issues/21755 */display: inline-block !important;position: relative;}#sk-container-id-11 div.sk-text-repr-fallback {display: none;}</style><div id=\"sk-container-id-11\" class=\"sk-top-container\"><div class=\"sk-text-repr-fallback\"><pre>DecisionTreeClassifier(max_depth=10, min_samples_split=100)</pre><b>In a Jupyter environment, please rerun this cell to show the HTML representation or trust the notebook. <br />On GitHub, the HTML representation is unable to render, please try loading this page with nbviewer.org.</b></div><div class=\"sk-container\" hidden><div class=\"sk-item\"><div class=\"sk-estimator sk-toggleable\"><input class=\"sk-toggleable__control sk-hidden--visually\" id=\"sk-estimator-id-17\" type=\"checkbox\" checked><label for=\"sk-estimator-id-17\" class=\"sk-toggleable__label sk-toggleable__label-arrow\">DecisionTreeClassifier</label><div class=\"sk-toggleable__content\"><pre>DecisionTreeClassifier(max_depth=10, min_samples_split=100)</pre></div></div></div></div></div>"
      ],
      "text/plain": [
       "DecisionTreeClassifier(max_depth=10, min_samples_split=100)"
      ]
     },
     "execution_count": 73,
     "metadata": {},
     "output_type": "execute_result"
    }
   ],
   "source": [
    "clf.best_estimator_"
   ]
  },
  {
   "cell_type": "code",
   "execution_count": 74,
   "id": "fe7b1fd5",
   "metadata": {
    "scrolled": true
   },
   "outputs": [
    {
     "data": {
      "text/html": [
       "<style>#sk-container-id-12 {color: black;background-color: white;}#sk-container-id-12 pre{padding: 0;}#sk-container-id-12 div.sk-toggleable {background-color: white;}#sk-container-id-12 label.sk-toggleable__label {cursor: pointer;display: block;width: 100%;margin-bottom: 0;padding: 0.3em;box-sizing: border-box;text-align: center;}#sk-container-id-12 label.sk-toggleable__label-arrow:before {content: \"▸\";float: left;margin-right: 0.25em;color: #696969;}#sk-container-id-12 label.sk-toggleable__label-arrow:hover:before {color: black;}#sk-container-id-12 div.sk-estimator:hover label.sk-toggleable__label-arrow:before {color: black;}#sk-container-id-12 div.sk-toggleable__content {max-height: 0;max-width: 0;overflow: hidden;text-align: left;background-color: #f0f8ff;}#sk-container-id-12 div.sk-toggleable__content pre {margin: 0.2em;color: black;border-radius: 0.25em;background-color: #f0f8ff;}#sk-container-id-12 input.sk-toggleable__control:checked~div.sk-toggleable__content {max-height: 200px;max-width: 100%;overflow: auto;}#sk-container-id-12 input.sk-toggleable__control:checked~label.sk-toggleable__label-arrow:before {content: \"▾\";}#sk-container-id-12 div.sk-estimator input.sk-toggleable__control:checked~label.sk-toggleable__label {background-color: #d4ebff;}#sk-container-id-12 div.sk-label input.sk-toggleable__control:checked~label.sk-toggleable__label {background-color: #d4ebff;}#sk-container-id-12 input.sk-hidden--visually {border: 0;clip: rect(1px 1px 1px 1px);clip: rect(1px, 1px, 1px, 1px);height: 1px;margin: -1px;overflow: hidden;padding: 0;position: absolute;width: 1px;}#sk-container-id-12 div.sk-estimator {font-family: monospace;background-color: #f0f8ff;border: 1px dotted black;border-radius: 0.25em;box-sizing: border-box;margin-bottom: 0.5em;}#sk-container-id-12 div.sk-estimator:hover {background-color: #d4ebff;}#sk-container-id-12 div.sk-parallel-item::after {content: \"\";width: 100%;border-bottom: 1px solid gray;flex-grow: 1;}#sk-container-id-12 div.sk-label:hover label.sk-toggleable__label {background-color: #d4ebff;}#sk-container-id-12 div.sk-serial::before {content: \"\";position: absolute;border-left: 1px solid gray;box-sizing: border-box;top: 0;bottom: 0;left: 50%;z-index: 0;}#sk-container-id-12 div.sk-serial {display: flex;flex-direction: column;align-items: center;background-color: white;padding-right: 0.2em;padding-left: 0.2em;position: relative;}#sk-container-id-12 div.sk-item {position: relative;z-index: 1;}#sk-container-id-12 div.sk-parallel {display: flex;align-items: stretch;justify-content: center;background-color: white;position: relative;}#sk-container-id-12 div.sk-item::before, #sk-container-id-12 div.sk-parallel-item::before {content: \"\";position: absolute;border-left: 1px solid gray;box-sizing: border-box;top: 0;bottom: 0;left: 50%;z-index: -1;}#sk-container-id-12 div.sk-parallel-item {display: flex;flex-direction: column;z-index: 1;position: relative;background-color: white;}#sk-container-id-12 div.sk-parallel-item:first-child::after {align-self: flex-end;width: 50%;}#sk-container-id-12 div.sk-parallel-item:last-child::after {align-self: flex-start;width: 50%;}#sk-container-id-12 div.sk-parallel-item:only-child::after {width: 0;}#sk-container-id-12 div.sk-dashed-wrapped {border: 1px dashed gray;margin: 0 0.4em 0.5em 0.4em;box-sizing: border-box;padding-bottom: 0.4em;background-color: white;}#sk-container-id-12 div.sk-label label {font-family: monospace;font-weight: bold;display: inline-block;line-height: 1.2em;}#sk-container-id-12 div.sk-label-container {text-align: center;}#sk-container-id-12 div.sk-container {/* jupyter's `normalize.less` sets `[hidden] { display: none; }` but bootstrap.min.css set `[hidden] { display: none !important; }` so we also need the `!important` here to be able to override the default hidden behavior on the sphinx rendered scikit-learn.org. See: https://github.com/scikit-learn/scikit-learn/issues/21755 */display: inline-block !important;position: relative;}#sk-container-id-12 div.sk-text-repr-fallback {display: none;}</style><div id=\"sk-container-id-12\" class=\"sk-top-container\"><div class=\"sk-text-repr-fallback\"><pre>DecisionTreeClassifier(max_depth=10, min_samples_leaf=100, random_state=42)</pre><b>In a Jupyter environment, please rerun this cell to show the HTML representation or trust the notebook. <br />On GitHub, the HTML representation is unable to render, please try loading this page with nbviewer.org.</b></div><div class=\"sk-container\" hidden><div class=\"sk-item\"><div class=\"sk-estimator sk-toggleable\"><input class=\"sk-toggleable__control sk-hidden--visually\" id=\"sk-estimator-id-18\" type=\"checkbox\" checked><label for=\"sk-estimator-id-18\" class=\"sk-toggleable__label sk-toggleable__label-arrow\">DecisionTreeClassifier</label><div class=\"sk-toggleable__content\"><pre>DecisionTreeClassifier(max_depth=10, min_samples_leaf=100, random_state=42)</pre></div></div></div></div></div>"
      ],
      "text/plain": [
       "DecisionTreeClassifier(max_depth=10, min_samples_leaf=100, random_state=42)"
      ]
     },
     "execution_count": 74,
     "metadata": {},
     "output_type": "execute_result"
    }
   ],
   "source": [
    "clf = DecisionTreeClassifier(criterion=\"gini\", random_state=42,max_depth=10, min_samples_leaf=100)   \n",
    "clf.fit(X_train,y_train)"
   ]
  },
  {
   "cell_type": "markdown",
   "id": "9d134481",
   "metadata": {},
   "source": [
    "**Make Predictions**\n",
    "\n",
    "- Predict the outcomes using the testing dataset"
   ]
  },
  {
   "cell_type": "code",
   "execution_count": 75,
   "id": "a9f1c44b",
   "metadata": {},
   "outputs": [],
   "source": [
    "y_predict = clf.predict(X_test)"
   ]
  },
  {
   "cell_type": "markdown",
   "id": "348d408e",
   "metadata": {},
   "source": [
    "**Evaluate the Model**\n",
    "\n",
    "- Import accuracy_score, classification_report, and confusion_matrix from sklearn.metrics\n",
    "- Calculate the accuracy score"
   ]
  },
  {
   "cell_type": "code",
   "execution_count": 76,
   "id": "f6c50fb8",
   "metadata": {
    "scrolled": true
   },
   "outputs": [
    {
     "name": "stdout",
     "output_type": "stream",
     "text": [
      "Accuracy: 0.96\n",
      "--------------------\n",
      "Confusion Matrix:\n",
      "[[2260   34]\n",
      " [  86  620]]\n",
      "--------------------\n",
      "Classification Report:\n",
      "              precision    recall  f1-score   support\n",
      "\n",
      "           0       0.96      0.99      0.97      2294\n",
      "           1       0.95      0.88      0.91       706\n",
      "\n",
      "    accuracy                           0.96      3000\n",
      "   macro avg       0.96      0.93      0.94      3000\n",
      "weighted avg       0.96      0.96      0.96      3000\n",
      "\n"
     ]
    }
   ],
   "source": [
    "# Assuming y_test contains the true labels and y_predict contains the predicted labels\n",
    "dt_accuracy = accuracy_score(y_test, y_predict)\n",
    "print(\"Accuracy:\", dt_accuracy)\n",
    "print(\"-\"*20)\n",
    "dt_cm = confusion_matrix(y_test, y_predict)\n",
    "print(\"Confusion Matrix:\")\n",
    "print(dt_cm)\n",
    "print(\"-\"*20)\n",
    "report = classification_report(y_test, y_predict, zero_division=1)\n",
    "print(\"Classification Report:\")\n",
    "print(report)"
   ]
  },
  {
   "cell_type": "markdown",
   "id": "ab774b5c",
   "metadata": {},
   "source": [
    "**Plot the decision tree**\n",
    "- We will plot the decision tree using an export_tree"
   ]
  },
  {
   "cell_type": "code",
   "execution_count": 77,
   "id": "50eb5f9e",
   "metadata": {},
   "outputs": [
    {
     "name": "stdout",
     "output_type": "stream",
     "text": [
      "|--- satisfaction_level <= 0.47\n",
      "|   |--- number_project <= 2.50\n",
      "|   |   |--- last_evaluation <= 0.57\n",
      "|   |   |   |--- satisfaction_level <= 0.37\n",
      "|   |   |   |   |--- class: 1\n",
      "|   |   |   |--- satisfaction_level >  0.37\n",
      "|   |   |   |   |--- average_montly_hours <= 158.50\n",
      "|   |   |   |   |   |--- average_montly_hours <= 129.50\n",
      "|   |   |   |   |   |   |--- class: 1\n",
      "|   |   |   |   |   |--- average_montly_hours >  129.50\n",
      "|   |   |   |   |   |   |--- last_evaluation <= 0.47\n",
      "|   |   |   |   |   |   |   |--- class: 1\n",
      "|   |   |   |   |   |   |--- last_evaluation >  0.47\n",
      "|   |   |   |   |   |   |   |--- average_montly_hours <= 150.50\n",
      "|   |   |   |   |   |   |   |   |--- class: 1\n",
      "|   |   |   |   |   |   |   |--- average_montly_hours >  150.50\n",
      "|   |   |   |   |   |   |   |   |--- last_evaluation <= 0.52\n",
      "|   |   |   |   |   |   |   |   |   |--- class: 1\n",
      "|   |   |   |   |   |   |   |   |--- last_evaluation >  0.52\n",
      "|   |   |   |   |   |   |   |   |   |--- class: 1\n",
      "|   |   |   |   |--- average_montly_hours >  158.50\n",
      "|   |   |   |   |   |--- class: 1\n",
      "|   |   |--- last_evaluation >  0.57\n",
      "|   |   |   |--- class: 0\n",
      "|   |--- number_project >  2.50\n",
      "|   |   |--- satisfaction_level <= 0.11\n",
      "|   |   |   |--- class: 1\n",
      "|   |   |--- satisfaction_level >  0.11\n",
      "|   |   |   |--- average_montly_hours <= 270.50\n",
      "|   |   |   |   |--- average_montly_hours <= 131.50\n",
      "|   |   |   |   |   |--- class: 0\n",
      "|   |   |   |   |--- average_montly_hours >  131.50\n",
      "|   |   |   |   |   |--- satisfaction_level <= 0.31\n",
      "|   |   |   |   |   |   |--- time_spend_company <= 4.50\n",
      "|   |   |   |   |   |   |   |--- salary_low <= 0.50\n",
      "|   |   |   |   |   |   |   |   |--- class: 0\n",
      "|   |   |   |   |   |   |   |--- salary_low >  0.50\n",
      "|   |   |   |   |   |   |   |   |--- class: 0\n",
      "|   |   |   |   |   |   |--- time_spend_company >  4.50\n",
      "|   |   |   |   |   |   |   |--- last_evaluation <= 0.62\n",
      "|   |   |   |   |   |   |   |   |--- class: 0\n",
      "|   |   |   |   |   |   |   |--- last_evaluation >  0.62\n",
      "|   |   |   |   |   |   |   |   |--- class: 0\n",
      "|   |   |   |   |   |--- satisfaction_level >  0.31\n",
      "|   |   |   |   |   |   |--- satisfaction_level <= 0.36\n",
      "|   |   |   |   |   |   |   |--- class: 0\n",
      "|   |   |   |   |   |   |--- satisfaction_level >  0.36\n",
      "|   |   |   |   |   |   |   |--- time_spend_company <= 3.50\n",
      "|   |   |   |   |   |   |   |   |--- class: 0\n",
      "|   |   |   |   |   |   |   |--- time_spend_company >  3.50\n",
      "|   |   |   |   |   |   |   |   |--- class: 0\n",
      "|   |   |   |--- average_montly_hours >  270.50\n",
      "|   |   |   |   |--- class: 0\n",
      "|--- satisfaction_level >  0.47\n",
      "|   |--- time_spend_company <= 4.50\n",
      "|   |   |--- number_project <= 5.50\n",
      "|   |   |   |--- time_spend_company <= 3.50\n",
      "|   |   |   |   |--- number_project <= 2.50\n",
      "|   |   |   |   |   |--- average_montly_hours <= 196.50\n",
      "|   |   |   |   |   |   |--- class: 0\n",
      "|   |   |   |   |   |--- average_montly_hours >  196.50\n",
      "|   |   |   |   |   |   |--- class: 0\n",
      "|   |   |   |   |--- number_project >  2.50\n",
      "|   |   |   |   |   |--- satisfaction_level <= 0.58\n",
      "|   |   |   |   |   |   |--- number_project <= 3.50\n",
      "|   |   |   |   |   |   |   |--- average_montly_hours <= 238.50\n",
      "|   |   |   |   |   |   |   |   |--- class: 0\n",
      "|   |   |   |   |   |   |   |--- average_montly_hours >  238.50\n",
      "|   |   |   |   |   |   |   |   |--- class: 0\n",
      "|   |   |   |   |   |   |--- number_project >  3.50\n",
      "|   |   |   |   |   |   |   |--- satisfaction_level <= 0.53\n",
      "|   |   |   |   |   |   |   |   |--- average_montly_hours <= 173.50\n",
      "|   |   |   |   |   |   |   |   |   |--- class: 0\n",
      "|   |   |   |   |   |   |   |   |--- average_montly_hours >  173.50\n",
      "|   |   |   |   |   |   |   |   |   |--- class: 0\n",
      "|   |   |   |   |   |   |   |--- satisfaction_level >  0.53\n",
      "|   |   |   |   |   |   |   |   |--- average_montly_hours <= 218.50\n",
      "|   |   |   |   |   |   |   |   |   |--- class: 0\n",
      "|   |   |   |   |   |   |   |   |--- average_montly_hours >  218.50\n",
      "|   |   |   |   |   |   |   |   |   |--- class: 0\n",
      "|   |   |   |   |   |--- satisfaction_level >  0.58\n",
      "|   |   |   |   |   |   |--- average_montly_hours <= 262.50\n",
      "|   |   |   |   |   |   |   |--- average_montly_hours <= 139.50\n",
      "|   |   |   |   |   |   |   |   |--- last_evaluation <= 0.64\n",
      "|   |   |   |   |   |   |   |   |   |--- class: 0\n",
      "|   |   |   |   |   |   |   |   |--- last_evaluation >  0.64\n",
      "|   |   |   |   |   |   |   |   |   |--- class: 0\n",
      "|   |   |   |   |   |   |   |--- average_montly_hours >  139.50\n",
      "|   |   |   |   |   |   |   |   |--- number_project <= 3.50\n",
      "|   |   |   |   |   |   |   |   |   |--- department_support <= 0.50\n",
      "|   |   |   |   |   |   |   |   |   |   |--- class: 0\n",
      "|   |   |   |   |   |   |   |   |   |--- department_support >  0.50\n",
      "|   |   |   |   |   |   |   |   |   |   |--- class: 0\n",
      "|   |   |   |   |   |   |   |   |--- number_project >  3.50\n",
      "|   |   |   |   |   |   |   |   |   |--- last_evaluation <= 0.98\n",
      "|   |   |   |   |   |   |   |   |   |   |--- class: 0\n",
      "|   |   |   |   |   |   |   |   |   |--- last_evaluation >  0.98\n",
      "|   |   |   |   |   |   |   |   |   |   |--- class: 0\n",
      "|   |   |   |   |   |   |--- average_montly_hours >  262.50\n",
      "|   |   |   |   |   |   |   |--- satisfaction_level <= 0.80\n",
      "|   |   |   |   |   |   |   |   |--- class: 0\n",
      "|   |   |   |   |   |   |   |--- satisfaction_level >  0.80\n",
      "|   |   |   |   |   |   |   |   |--- class: 0\n",
      "|   |   |   |--- time_spend_company >  3.50\n",
      "|   |   |   |   |--- department_technical <= 0.50\n",
      "|   |   |   |   |   |--- salary_low <= 0.50\n",
      "|   |   |   |   |   |   |--- last_evaluation <= 0.82\n",
      "|   |   |   |   |   |   |   |--- class: 0\n",
      "|   |   |   |   |   |   |--- last_evaluation >  0.82\n",
      "|   |   |   |   |   |   |   |--- class: 0\n",
      "|   |   |   |   |   |--- salary_low >  0.50\n",
      "|   |   |   |   |   |   |--- satisfaction_level <= 0.82\n",
      "|   |   |   |   |   |   |   |--- average_montly_hours <= 219.50\n",
      "|   |   |   |   |   |   |   |   |--- class: 0\n",
      "|   |   |   |   |   |   |   |--- average_montly_hours >  219.50\n",
      "|   |   |   |   |   |   |   |   |--- class: 0\n",
      "|   |   |   |   |   |   |--- satisfaction_level >  0.82\n",
      "|   |   |   |   |   |   |   |--- class: 0\n",
      "|   |   |   |   |--- department_technical >  0.50\n",
      "|   |   |   |   |   |--- class: 0\n",
      "|   |   |--- number_project >  5.50\n",
      "|   |   |   |--- class: 0\n",
      "|   |--- time_spend_company >  4.50\n",
      "|   |   |--- last_evaluation <= 0.81\n",
      "|   |   |   |--- time_spend_company <= 6.50\n",
      "|   |   |   |   |--- last_evaluation <= 0.52\n",
      "|   |   |   |   |   |--- class: 0\n",
      "|   |   |   |   |--- last_evaluation >  0.52\n",
      "|   |   |   |   |   |--- average_montly_hours <= 194.00\n",
      "|   |   |   |   |   |   |--- class: 0\n",
      "|   |   |   |   |   |--- average_montly_hours >  194.00\n",
      "|   |   |   |   |   |   |--- class: 0\n",
      "|   |   |   |--- time_spend_company >  6.50\n",
      "|   |   |   |   |--- class: 0\n",
      "|   |   |--- last_evaluation >  0.81\n",
      "|   |   |   |--- average_montly_hours <= 216.50\n",
      "|   |   |   |   |--- class: 0\n",
      "|   |   |   |--- average_montly_hours >  216.50\n",
      "|   |   |   |   |--- satisfaction_level <= 0.74\n",
      "|   |   |   |   |   |--- class: 0\n",
      "|   |   |   |   |--- satisfaction_level >  0.74\n",
      "|   |   |   |   |   |--- time_spend_company <= 5.50\n",
      "|   |   |   |   |   |   |--- last_evaluation <= 0.88\n",
      "|   |   |   |   |   |   |   |--- class: 1\n",
      "|   |   |   |   |   |   |--- last_evaluation >  0.88\n",
      "|   |   |   |   |   |   |   |--- number_project <= 4.50\n",
      "|   |   |   |   |   |   |   |   |--- class: 1\n",
      "|   |   |   |   |   |   |   |--- number_project >  4.50\n",
      "|   |   |   |   |   |   |   |   |--- class: 1\n",
      "|   |   |   |   |   |--- time_spend_company >  5.50\n",
      "|   |   |   |   |   |   |--- class: 1\n",
      "\n"
     ]
    }
   ],
   "source": [
    "target = list(df['left'].unique())\n",
    "feature_names = list(X.columns)\n",
    "r = export_text(clf, feature_names=feature_names)\n",
    "print(r)"
   ]
  },
  {
   "cell_type": "markdown",
   "id": "f209b321-9c8a-48d3-a2b8-86dfb27a8b43",
   "metadata": {},
   "source": [
    "## __Algorithm 2: logistic regression__\n"
   ]
  },
  {
   "cell_type": "markdown",
   "id": "c2c020af-761d-46db-9ead-7d2d503aba19",
   "metadata": {},
   "source": [
    "**Train the logistic regression Classifier**\n",
    "- Import LogisticRegression from sklearn.tree\n",
    "- Train the model using the training dataset"
   ]
  },
  {
   "cell_type": "code",
   "execution_count": 78,
   "id": "21856d93-0efc-4262-b3b8-75ae6788abc3",
   "metadata": {},
   "outputs": [],
   "source": [
    "from sklearn.linear_model import LogisticRegression"
   ]
  },
  {
   "cell_type": "code",
   "execution_count": 79,
   "id": "61aa0ee5-7530-461f-a8b6-b683323e9a9c",
   "metadata": {},
   "outputs": [
    {
     "name": "stdout",
     "output_type": "stream",
     "text": [
      "Accuracy: 0.7843333333333333\n",
      "Classification Report:\n",
      "              precision    recall  f1-score   support\n",
      "\n",
      "           0       0.82      0.92      0.87      2294\n",
      "           1       0.57      0.34      0.42       706\n",
      "\n",
      "    accuracy                           0.78      3000\n",
      "   macro avg       0.69      0.63      0.65      3000\n",
      "weighted avg       0.76      0.78      0.76      3000\n",
      "\n"
     ]
    }
   ],
   "source": [
    "# Scale the data\n",
    "scaler = StandardScaler()\n",
    "X_train_scaled = scaler.fit_transform(X_train)\n",
    "X_test_scaled = scaler.transform(X_test)\n",
    "\n",
    "# Instantiate the model  max_iter\n",
    "model = LogisticRegression(max_iter=1000)\n",
    "\n",
    "# Fit the model\n",
    "model.fit(X_train_scaled, y_train)\n",
    "\n",
    "# Make predictions\n",
    "y_pred = model.predict(X_test_scaled)\n",
    "\n",
    "# Evaluate the model\n",
    "accuracy_LR = accuracy_score(y_test, y_pred)\n",
    "print(\"Accuracy:\", accuracy_LR)\n",
    "print(\"Classification Report:\")\n",
    "classification_report_LR=classification_report(y_test, y_pred)\n",
    "print(classification_report_LR)"
   ]
  },
  {
   "cell_type": "code",
   "execution_count": 80,
   "id": "6230f106-77e8-4d4a-a13e-525d31ae06f2",
   "metadata": {},
   "outputs": [
    {
     "name": "stdout",
     "output_type": "stream",
     "text": [
      "Confusion Matrix:\n",
      "[[2116  178]\n",
      " [ 469  237]]\n"
     ]
    }
   ],
   "source": [
    "from sklearn.metrics import confusion_matrix\n",
    "\n",
    "# Calculate confusion matrix\n",
    "conf_matrix = confusion_matrix(y_test, y_pred)\n",
    "\n",
    "# Print confusion matrix\n",
    "print(\"Confusion Matrix:\")\n",
    "print(conf_matrix)\n"
   ]
  },
  {
   "cell_type": "markdown",
   "id": "f770dc3c-4835-4805-98c3-692db6c0a542",
   "metadata": {},
   "source": [
    "- True Negatives (TN): 2113\n",
    "- False Positives (FP): 181\n",
    "- False Negatives (FN): 546\n",
    "- True Positives (TP): 160\n",
    "60\n",
    "60\n",
    "eft.\n",
    "w!\n"
   ]
  },
  {
   "cell_type": "code",
   "execution_count": 81,
   "id": "0e827d02-7923-4fd2-8f9c-0ce020d0e2f1",
   "metadata": {},
   "outputs": [
    {
     "data": {
      "image/png": "[encoded data removed]",
      "text/plain": [
       "<Figure size 800x600 with 2 Axes>"
      ]
     },
     "metadata": {},
     "output_type": "display_data"
    }
   ],
   "source": [
    "\n",
    "# Plot confusion matrix as heatmap\n",
    "plt.figure(figsize=(8, 6))\n",
    "sns.heatmap(conf_matrix, annot=True, fmt=\"d\", cmap=\"Blues\", \n",
    "            xticklabels=[\"False\", \"True\"], yticklabels=[\"False\", \"True\"],\n",
    "            annot_kws={\"color\": \"black\"}, square=True)  # Set square=True for equal cell sizes\n",
    "plt.xlabel(\"Predicted\")\n",
    "plt.ylabel(\"Actual\")\n",
    "plt.title(\"Confusion Matrix\")\n",
    "plt.show()\n"
   ]
  },
  {
   "cell_type": "markdown",
   "id": "dbe8dc92-96e1-4a06-b350-4cf71e0342a4",
   "metadata": {},
   "source": [
    "##  __Algorithm 3: k-Nearest Neighbors__\n"
   ]
  },
  {
   "cell_type": "code",
   "execution_count": 82,
   "id": "2e5db36d-912b-4efb-b554-4c4e294ca586",
   "metadata": {},
   "outputs": [],
   "source": [
    "from sklearn.neighbors import KNeighborsClassifier\n",
    "from sklearn.model_selection import train_test_split\n",
    "from sklearn.metrics import accuracy_score, classification_report"
   ]
  },
  {
   "cell_type": "code",
   "execution_count": 83,
   "id": "3d2e75fa-16d9-421c-bab0-43ed594376ec",
   "metadata": {},
   "outputs": [
    {
     "name": "stdout",
     "output_type": "stream",
     "text": [
      "Accuracy: 0.9316666666666666\n",
      "Classification Report:\n",
      "              precision    recall  f1-score   support\n",
      "\n",
      "           0       0.97      0.94      0.95      2294\n",
      "           1       0.82      0.91      0.86       706\n",
      "\n",
      "    accuracy                           0.93      3000\n",
      "   macro avg       0.90      0.92      0.91      3000\n",
      "weighted avg       0.94      0.93      0.93      3000\n",
      "\n"
     ]
    }
   ],
   "source": [
    "\n",
    "\n",
    "# Instantiate the k-NN classifier\n",
    "knn = KNeighborsClassifier(n_neighbors=5)  # You can adjust the number of neighbors (k) as needed\n",
    "\n",
    "# Fit the classifier to the training data\n",
    "knn.fit(X_train, y_train)\n",
    "\n",
    "# Make predictions on the test data\n",
    "y_pred = knn.predict(X_test)\n",
    "\n",
    "# Evaluate the classifier\n",
    "accuracy_knn = accuracy_score(y_test, y_pred)\n",
    "print(\"Accuracy:\", accuracy_knn)\n",
    "print(\"Classification Report:\")\n",
    "classification_report_knn=classification_report(y_test, y_pred)\n",
    "print(classification_report_knn)\n"
   ]
  },
  {
   "cell_type": "markdown",
   "id": "ef09bbee-2ad6-406a-8aac-72528b1264ed",
   "metadata": {},
   "source": [
    "## __Classification Reports of All of the Binary Classification ALgorithms__"
   ]
  },
  {
   "cell_type": "markdown",
   "id": "4d0d9a8f-b7d8-45f9-afcd-f39fa4cce524",
   "metadata": {},
   "source": [
    "**Project Summary:**\n",
    "\n",
    "- **Objective:** The goal of the project is to build a binary classification model to predict whether employees are likely to leave the company (\"left\") based on various features.\n",
    "  \n",
    "- **Dataset:** The dataset contains information about employees, including their satisfaction level, evaluation score, number of projects, average monthly hours worked, time spent at the company, whether they had a work accident, whether they received a promotion in the last 5 years, their department, and their salary level.\n",
    "  \n",
    "- **Target Variable:** The target variable is \"left,\" which indicates whether an employee has left the company (1) or not (0).\n",
    "  \n",
    "- **Approach:** Three different classification al are used and compared based on the performance to determine which one works best for predicting employee turnover. The classification algorithms are (Logistic Regression, k-nearest Neighbors, and Decision Trees)n Trees.\n"
   ]
  },
  {
   "cell_type": "code",
   "execution_count": 84,
   "id": "fd5d2a62-2f28-4289-81aa-3a0c9b6572b9",
   "metadata": {},
   "outputs": [
    {
     "name": "stdout",
     "output_type": "stream",
     "text": [
      "Model                  Accuracy\n",
      "-------------------  ----------\n",
      "Logistic Regression    0.784333\n",
      "Decision Tree          0.96\n",
      "k-Nearest Neighbors    0.931667\n"
     ]
    }
   ],
   "source": [
    "from tabulate import tabulate\n",
    "\n",
    "# Define your models and their corresponding Accuracy scores\n",
    "models = {\n",
    "    'Logistic Regression': accuracy_LR,\n",
    "    'Decision Tree': dt_accuracy,\n",
    "    'k-Nearest Neighbors': accuracy_knn,\n",
    "}\n",
    "\n",
    "# Convert the dictionary to a list of lists\n",
    "table_data = [[model, accuracy] for model, accuracy in models.items()]\n",
    "\n",
    "# Print the table\n",
    "print(tabulate(table_data, headers=[\"Model\", \"Accuracy\"]))\n"
   ]
  },
  {
   "cell_type": "code",
   "execution_count": 85,
   "id": "054d14d3-40ff-402c-bbdf-3e4944fb6bc0",
   "metadata": {},
   "outputs": [
    {
     "name": "stdout",
     "output_type": "stream",
     "text": [
      "Classification Report for Logistic Regression:\n",
      "              precision    recall  f1-score   support\n",
      "\n",
      "           0       0.82      0.92      0.87      2294\n",
      "           1       0.57      0.34      0.42       706\n",
      "\n",
      "    accuracy                           0.78      3000\n",
      "   macro avg       0.69      0.63      0.65      3000\n",
      "weighted avg       0.76      0.78      0.76      3000\n",
      "\n",
      "\n",
      "Classification Report for k-Nearest Neighbors:\n",
      "              precision    recall  f1-score   support\n",
      "\n",
      "           0       0.97      0.94      0.95      2294\n",
      "           1       0.82      0.91      0.86       706\n",
      "\n",
      "    accuracy                           0.93      3000\n",
      "   macro avg       0.90      0.92      0.91      3000\n",
      "weighted avg       0.94      0.93      0.93      3000\n",
      "\n",
      "\n",
      "Classification Report for Decision Tree:\n",
      "              precision    recall  f1-score   support\n",
      "\n",
      "           0       0.98      0.91      0.94      2294\n",
      "           1       0.75      0.93      0.83       706\n",
      "\n",
      "    accuracy                           0.91      3000\n",
      "   macro avg       0.87      0.92      0.89      3000\n",
      "weighted avg       0.92      0.91      0.92      3000\n",
      "\n",
      "\n"
     ]
    }
   ],
   "source": [
    "from tabulate import tabulate\n",
    "\n",
    "# Define your models and their corresponding Classification Reports\n",
    "reports = {\n",
    "    'Logistic Regression': classification_report_LR,\n",
    "    'k-Nearest Neighbors': classification_report_knn,\n",
    "    'Decision Tree': classification_report_dt,\n",
    "    # Add more models as needed\n",
    "}\n",
    "\n",
    "# Print the table\n",
    "for model, report in reports.items():\n",
    "    print(f\"Classification Report for {model}:\")\n",
    "    print(report)\n",
    "    print()\n"
   ]
  }
 ],
 "metadata": {
  "kernelspec": {
   "display_name": "Python 3 (ipykernel)",
   "language": "python",
   "name": "python3"
  },
  "language_info": {
   "codemirror_mode": {
    "name": "ipython",
    "version": 3
   },
   "file_extension": ".py",
   "mimetype": "text/x-python",
   "name": "python",
   "nbconvert_exporter": "python",
   "pygments_lexer": "ipython3",
   "version": "3.11.7"
  }
 },
 "nbformat": 4,
 "nbformat_minor": 5
}
